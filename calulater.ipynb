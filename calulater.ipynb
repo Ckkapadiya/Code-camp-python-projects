{
 "cells": [
  {
   "cell_type": "code",
   "execution_count": 18,
   "id": "1557fb28-7cd6-4da5-8e0b-af349955a138",
   "metadata": {},
   "outputs": [],
   "source": [
    "import statistics"
   ]
  },
  {
   "cell_type": "code",
   "execution_count": 46,
   "id": "596a877f-b6e7-441e-b468-3799a1f51d39",
   "metadata": {},
   "outputs": [
    {
     "ename": "SyntaxError",
     "evalue": "invalid syntax (4109357741.py, line 18)",
     "output_type": "error",
     "traceback": [
      "\u001b[1;36m  Cell \u001b[1;32mIn[46], line 18\u001b[1;36m\u001b[0m\n\u001b[1;33m    except ValueError:\u001b[0m\n\u001b[1;37m    ^\u001b[0m\n\u001b[1;31mSyntaxError\u001b[0m\u001b[1;31m:\u001b[0m invalid syntax\n"
     ]
    }
   ],
   "source": [
    "Inputnumber = input(\"list\")\n",
    "if len(Inputnumber) < 9:\n",
    "            print(\"No mode can be determined.\")\n",
    "    \n",
    "Inputnumbers = [float(num) for num in Inputnumber.replace(\" \", \"\").split(\",\")]\n",
    "Mean= statistics.mean(Inputnumbers)\n",
    "Variance= statistics.variance(Inputnumbers)\n",
    "Standarddeviation= statistics.stdev(Inputnumbers)\n",
    "Max=max(Inputnumbers)\n",
    "Min=min(Inputnumbers)\n",
    "Total= sum(Inputnumbers)\n",
    "print(\"Mean\",Mean)\n",
    "print(\"Variance\",Variance)\n",
    "print(\"Standarddeviation\",Standarddeviation)\n",
    "print(\"Max\",Max)\n",
    "print(\"Min\",Min)\n",
    "print(\"Total\",Total)\n",
    "except ValueError:\n",
    "        print(\"Invalid input. Please enter a valid list of numbers.\")"
   ]
  },
  {
   "cell_type": "code",
   "execution_count": 25,
   "id": "1fc4c47d-75a7-4845-9750-c8283a718679",
   "metadata": {},
   "outputs": [
    {
     "data": {
      "text/plain": [
       "7.5"
      ]
     },
     "execution_count": 25,
     "metadata": {},
     "output_type": "execute_result"
    }
   ],
   "source": [
    "num = [7,8,9,6]\n",
    "mean = statistics.mean(num)\n",
    "mean"
   ]
  },
  {
   "cell_type": "code",
   "execution_count": null,
   "id": "20b1c62b-dbba-4350-935d-604b48a8a258",
   "metadata": {},
   "outputs": [],
   "source": []
  }
 ],
 "metadata": {
  "kernelspec": {
   "display_name": "Python 3 (ipykernel)",
   "language": "python",
   "name": "python3"
  },
  "language_info": {
   "codemirror_mode": {
    "name": "ipython",
    "version": 3
   },
   "file_extension": ".py",
   "mimetype": "text/x-python",
   "name": "python",
   "nbconvert_exporter": "python",
   "pygments_lexer": "ipython3",
   "version": "3.10.9"
  }
 },
 "nbformat": 4,
 "nbformat_minor": 5
}
